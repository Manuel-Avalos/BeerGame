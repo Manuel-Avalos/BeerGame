{
 "cells": [
  {
   "cell_type": "code",
   "execution_count": 4,
   "metadata": {
    "collapsed": true
   },
   "outputs": [],
   "source": [
    "def knapsack2(b,c,tol):\n",
    "    import itertools\n",
    "    import pandas as pd\n",
    "    import numpy as np\n",
    "    import time\n",
    "    start_time = time.time()\n",
    "    n = len(b)\n",
    "    t = [0]*n\n",
    "    \n",
    "    # Create permutation matrix\n",
    "    data = list(itertools.permutations([0,1]*n, n))\n",
    "    permat =pd.DataFrame(data) \n",
    "    permat = permat.drop_duplicates()\n",
    "    permat = permat.reset_index(drop=True)\n",
    "    x = [0]*(2**n)\n",
    "    \n",
    "    # Filter permutation matrix with possible solutions\n",
    "    for i in range(0, (2**n)):\n",
    "        if (np.dot(permat.loc[i],c)) < tol:\n",
    "            x[i] = np.dot(permat.loc[i],c)\n",
    "        else:\n",
    "            x[i] = 0\n",
    "        \n",
    "\n",
    "    y = [0]*(2**n)\n",
    "    \n",
    "    # dot product of solution matrix rows with benefit vector\n",
    "    for i in range(0, (2**n)):\n",
    "        if x[i] == 0:\n",
    "            y[i] = 0\n",
    "        else: \n",
    "            y[i] = np.dot(permat.loc[i],b)\n",
    "     \n",
    "    #find max benefit\n",
    "    k = np.argmax(y)\n",
    "    #calculate cost of max benefit\n",
    "    cost = np.dot(permat.loc[k],c)\n",
    "    #calculate benefit potential\n",
    "    benefit = np.dot(permat.loc[k],b)\n",
    "    #Define solution vector\n",
    "    j = np.array(permat.loc[k])\n",
    "    #record calculation time\n",
    "    Ftime = \"--- %s seconds ---\" % (time.time() - start_time)\n",
    "    #Print results\n",
    "    print (\"Solution Vector:\",j)\n",
    "    print (\"Potential Benefit:\", benefit)\n",
    "    print (\"Potential Cost:\", cost)\n",
    "    print (\"Calculation Time:\", Ftime)"
   ]
  },
  {
   "cell_type": "markdown",
   "metadata": {},
   "source": [
    "Here are some tester cases"
   ]
  },
  {
   "cell_type": "code",
   "execution_count": 33,
   "metadata": {},
   "outputs": [
    {
     "name": "stdout",
     "output_type": "stream",
     "text": [
      "Solution Vector: [0 1 1 1 0]\n",
      "Potential Cost: 47\n",
      "Potential Benefit: 23\n",
      "Calculation Time: --- 0.07561397552490234 seconds ---\n"
     ]
    }
   ],
   "source": [
    "#example 1: from Homework 3\n",
    "b = [3,8,9,6,2] #benefit vector\n",
    "c = [12,15,16,16,10] #cost vector\n",
    "tol = 55\n",
    "knapsack2(b,c,tol)"
   ]
  },
  {
   "cell_type": "code",
   "execution_count": 34,
   "metadata": {},
   "outputs": [
    {
     "name": "stdout",
     "output_type": "stream",
     "text": [
      "Solution Vector: [0 1 0 0 1]\n",
      "Potential Cost: 97\n",
      "Potential Benefit: 68\n",
      "Calculation Time: --- 0.06837701797485352 seconds ---\n"
     ]
    }
   ],
   "source": [
    "#example 2: from HW 5 Prob. 1\n",
    "b = [29,43,42,27,25]\n",
    "c = [42,65,68,48,32]\n",
    "tol = 100\n",
    "knapsack2(b,c,tol)"
   ]
  },
  {
   "cell_type": "code",
   "execution_count": null,
   "metadata": {
    "collapsed": true
   },
   "outputs": [],
   "source": [
    "#example 3: Random vectors of length 9\n",
    "# Note: This example has input vectors that may be too long \n",
    "b = [3,8,9,6,2,4,5,7,10,11,4,12] #benefit vector\n",
    "c = [12,15,16,16,10,13,20,17,12,16,11,7] #cost vector\n",
    "tol = 88\n",
    "knapsack2(b,c,tol)"
   ]
  },
  {
   "cell_type": "code",
   "execution_count": 5,
   "metadata": {},
   "outputs": [
    {
     "name": "stdout",
     "output_type": "stream",
     "text": [
      "Solution Vector: [0 1 1 1 0 0 0]\n",
      "Potential Benefit: 23\n",
      "Potential Cost: 47\n",
      "Calculation Time: --- 44.48881697654724 seconds ---\n"
     ]
    }
   ],
   "source": [
    "#example 4\n",
    "b = [3,8,9,6,2,4,5]\n",
    "c = [12,15,16,16,10,13,20]\n",
    "tol = 48\n",
    "knapsack2(b,c,tol)"
   ]
  },
  {
   "cell_type": "code",
   "execution_count": null,
   "metadata": {
    "collapsed": true
   },
   "outputs": [],
   "source": []
  }
 ],
 "metadata": {
  "kernelspec": {
   "display_name": "Python 3",
   "language": "python",
   "name": "python3"
  },
  "language_info": {
   "codemirror_mode": {
    "name": "ipython",
    "version": 3
   },
   "file_extension": ".py",
   "mimetype": "text/x-python",
   "name": "python",
   "nbconvert_exporter": "python",
   "pygments_lexer": "ipython3",
   "version": "3.6.1"
  }
 },
 "nbformat": 4,
 "nbformat_minor": 2
}

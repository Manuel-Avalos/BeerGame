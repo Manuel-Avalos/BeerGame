{
 "cells": [
  {
   "cell_type": "markdown",
   "metadata": {},
   "source": [
    "VARIABLE CREATION:\n",
    "In this segment of the code, variables are created by assigning dummy values to them, \n",
    "which are not used in the simulation. This step is necessary in R."
   ]
  },
  {
   "cell_type": "code",
   "execution_count": 15,
   "metadata": {
    "collapsed": true
   },
   "outputs": [],
   "source": [
    "endcd = 0\n",
    "\n",
    "s_endc = 0\n",
    "s_r = 0\n",
    "\n",
    "ti_r = 0\n",
    "ti_f = 0\n",
    "\n",
    "o_r = 0\n",
    "psr = 0\n",
    "\n",
    "io_f = 0\n",
    "\n",
    "ei_r = 0\n",
    "ei_f = 0\n",
    "\n",
    "sl_r = 0\n",
    "sl_f = 0\n",
    "\n",
    "sla_r = 0\n",
    "sla_f = 0\n",
    "\n",
    "ia_r = 0\n",
    "ia_f = 0\n"
   ]
  },
  {
   "cell_type": "markdown",
   "metadata": {},
   "source": [
    "PARAMETERS AND INITAL VALUES OF THE MATHEMATICAL MODEL:\n",
    "In order to ease the comparison of the mathematical\n",
    "model and the R code, the equation numbers are also\n",
    "provided in the R code. For example #1, #2, #3, and so\n",
    "on and so forth."
   ]
  },
  {
   "cell_type": "code",
   "execution_count": 16,
   "metadata": {
    "collapsed": true
   },
   "outputs": [],
   "source": [
    "sat_r = 2 #1 This is 1/alpha\n",
    "sat_f = 2 #1 This is 1/alpha\n",
    "\n",
    "mdt_r = 1 #2\n",
    "\n",
    "st_f = 2 #3\n",
    "\n",
    "plt = 2 #4\n",
    "\n",
    "wsl_r = .5  #5 This is Beta\n",
    "wsl_f = .5  #5 This is Beta\n",
    "\n",
    "theta_r = .5 #6 This is Theta\n",
    "theta_f = .5  #6 This is Theta"
   ]
  },
  {
   "cell_type": "markdown",
   "metadata": {},
   "source": [
    "In R, an index of zero cannot be used in an array. For\n",
    "example, the first element of an array of variable x,\n",
    "is represented as x[1]. Therefore, t in R corresponds\n",
    "to t-1 in the mathematical model.  "
   ]
  },
  {
   "cell_type": "code",
   "execution_count": 17,
   "metadata": {},
   "outputs": [],
   "source": [
    "\n",
    "for(t in 2:5){ #7 (corresponds to t = 1 to 4\n",
    "  endcd[t] = 15 #  in the mathematical model) #Customer Demand\n",
    "}\n",
    "\n",
    "for(t in 6:200){ #7 (corresponds to t = 5 to 36 # Change to number of weeks needed\n",
    "  endcd[t] = 15 #  in the mathematical model) #Customer Demand\n",
    "}\n",
    "\n",
    "eecd = 4 #8\n",
    "eo_r = 4 #9\n",
    "\n",
    "di_r = 0 #10\n",
    "di_f = 0 #10\n",
    "\n",
    "dsl_r = eecd * (mdt_r + st_f) #11\n",
    "dsl_f = eo_r * plt #14\n",
    "\n",
    "b_r = 0 #15\n",
    "b_f = 0 #15\n",
    "\n",
    "i_r = 0 #16 Initial Inventory retailer\n",
    "i_f = 0 #16 Initial Inventory factory\n",
    "\n",
    "iti1_r = 4 #17\n",
    "\n",
    "wipi1 = 4 #18\n",
    "\n",
    "iti2_r = 4 #19\n",
    "\n",
    "wipi2 = 4 #20\n",
    "\n",
    "o_r[2] = 4 #21\n",
    "\n",
    "psr[2] = 4 #22\n",
    "\n",
    "io_f[2] = 4 #23\n",
    "\n",
    "tc_r = 0 #24\n",
    "tc_f = 0 #24\n",
    "\n",
    "uihc = 0.5 #25  ###\n",
    "ubc = 1 #26   ##\n",
    "\n",
    "s_prime_r = 28 #(Decision Parameter) ##\n",
    "s_prime_f = 20 #(Decision Parameter) ##\n"
   ]
  },
  {
   "cell_type": "markdown",
   "metadata": {},
   "source": [
    "START OF THE SIMULATION-FOR-LOOP"
   ]
  },
  {
   "cell_type": "code",
   "execution_count": 18,
   "metadata": {
    "collapsed": true
   },
   "outputs": [],
   "source": [
    "for(t in 2:200) # (corresponds to t = 1 to 36,  # Change to number of weeks needed\n",
    "{ # in the mathematical model)\n",
    "  \n",
    "  #####Step 1#####\n",
    "  \n",
    "  ti_r[t] = i_r[t-1] + iti2_r[t-1] #25\n",
    "  \n",
    "  ti_f[t] = i_f[t-1] + wipi2[t-1] #26\n",
    "  \n",
    "  iti2_r[t] = iti1_r[t-1] #27\n",
    "  \n",
    "  wipi2[t] = wipi1[t-1] #28\n",
    "  \n",
    "  iti1_r[t] = 0 #29\n",
    "  \n",
    "  wipi1[t] = 0 #30\n",
    "  \n",
    "  #####Step 2#####\n",
    "  \n",
    "  s_endc[t] = min(ti_r[t], b_r[t-1] + endcd[t]) #31\n",
    "  s_r[t] = min(ti_f[t], b_f[t-1] + io_f[t]) #32\n",
    "  \n",
    "  iti1_r[t] = s_r[t] #35\n",
    "  \n",
    "  wipi1[t] = psr[t] #36\n",
    "  \n",
    "  #####Step 3#####\n",
    "  \n",
    "  b_r[t] = b_r[t-1] + endcd[t] - s_endc[t] #37\n",
    "  b_f[t] = b_f[t-1] + io_f[t] - s_r[t] #40\n",
    "  \n",
    "  i_r[t] = ti_r[t] - s_endc[t] #41\n",
    "  i_f[t] = ti_f[t] - s_r[t] #44\n",
    "  \n",
    "  #####Expectation Formation#####\n",
    "  \n",
    "  eecd[t] = eecd[t-1] + theta_r * (endcd[t] - eecd[t-1]) #45 \n",
    "  eo_r[t] = eo_r[t-1] + theta_f * (io_f[t] - eo_r[t-1]) #46\n",
    "  \n",
    "  #####Step 4#####\n",
    "  \n",
    "  io_f[t+1] = o_r[t] #51\n",
    "  \n",
    "  #####Step 5#####\n",
    "  \n",
    "  dsl_r[t] = eecd[t] * (mdt_r + st_f) #52\n",
    "  dsl_f[t] = eo_r[t] * plt #55\n",
    "  \n",
    "  ei_r[t] = i_r[t] - b_r[t] #56\n",
    "  ei_f[t] = i_f[t] - b_f[t] #56\n",
    "  \n",
    "  sl_r[t] = io_f[t+1] + b_f[t] + iti1_r[t] + iti2_r[t] #57\n",
    "  sl_f[t] = wipi1[t] + wipi2[t] #60\n",
    "  \n",
    "  sla_r[t] = wsl_r * (dsl_r[t] - sl_r[t]) / sat_r #61\n",
    "  sla_f[t] = wsl_f * (dsl_f[t] - sl_f[t]) / sat_f #61\n",
    "  \n",
    "  ia_r[t] = (di_r - ei_r[t]) / sat_r #62\n",
    "  ia_f[t] = (di_f - ei_f[t]) / sat_f #62\n",
    "  \n",
    "  if(t <= 5) # (corresponds to t <= 4\n",
    "  { #  in the mathematical model)\n",
    "    o_r[t+1] = 4 #63\n",
    "    psr[t+1] = 4 #66\n",
    "  }\n",
    "  else\n",
    "  {\n",
    "    o_r[t+1]=floor(max(eecd[t]+ia_r[t]+sla_r[t],0)+0.5)\t#63\n",
    "    psr[t+1]=floor(max(eo_r[t]+ia_f[t]+sla_f[t],0)+0.5)\t#66\n",
    "  }\n",
    "  \n",
    "  # In the mathematical model, we assume that the values are\n",
    "  # rounded using the \"round half way from zero\" tie-breaking\n",
    "  # rule. However, the function \"round\" in R uses the \"round\n",
    "  # half alternatingly\" rule. After adding 0.5 to the values\n",
    "  # to be rounded, the \"floor\" function confirms to our assumed\n",
    "  # tie-breaking rule only in the presence of non-negative\n",
    "  # orders, which is guaranteed by the \"max\" function.\n",
    "  \n",
    "  tc_r[t] = tc_r[t-1] + (b_r[t] + 0.5 * i_r[t]) #67\n",
    "  tc_f[t] = tc_f[t-1] + (b_f[t] + 0.5 * i_f[t]) #67\n",
    "}\n",
    "\n",
    "# END OF THE SIMULATION-FOR-LOOP\n"
   ]
  },
  {
   "cell_type": "markdown",
   "metadata": {},
   "source": [
    "TOTAL COSTS OBTAINED AT EACH ECHELON ARE REPORTED:\n",
    "The below cost values correspond to the costs obtained\n",
    "at the end of the game."
   ]
  },
  {
   "cell_type": "code",
   "execution_count": 19,
   "metadata": {},
   "outputs": [
    {
     "data": {
      "text/html": [
       "1411.5"
      ],
      "text/latex": [
       "1411.5"
      ],
      "text/markdown": [
       "1411.5"
      ],
      "text/plain": [
       "[1] 1411.5"
      ]
     },
     "metadata": {},
     "output_type": "display_data"
    },
    {
     "data": {
      "text/html": [
       "1312"
      ],
      "text/latex": [
       "1312"
      ],
      "text/markdown": [
       "1312"
      ],
      "text/plain": [
       "[1] 1312"
      ]
     },
     "metadata": {},
     "output_type": "display_data"
    }
   ],
   "source": [
    "tc_r[200] # Change to number of weeks needed (retailer)\n",
    "tc_f[200] # Change to number of weeks needed (factory)\n"
   ]
  },
  {
   "cell_type": "markdown",
   "metadata": {},
   "source": [
    "THE TEAM TOTAL COST IS CALCULATED AND REPORTED "
   ]
  },
  {
   "cell_type": "code",
   "execution_count": null,
   "metadata": {
    "collapsed": true
   },
   "outputs": [],
   "source": [
    "ttc = tc_r[200] + tc_f[200] # Change to number of weeks needed\n",
    "ttc"
   ]
  },
  {
   "cell_type": "markdown",
   "metadata": {},
   "source": [
    "Here we plot the inventory dynamics for this simulation:"
   ]
  },
  {
   "cell_type": "code",
   "execution_count": null,
   "metadata": {
    "collapsed": true
   },
   "outputs": [],
   "source": [
    "g_range = range(0, i_r, i_f)\n",
    "\n",
    "plot(0,ann=FALSE,type=\"n\",xlim=c(0,200),ylim=g_range) # Change to number of weeks needed\n",
    "\n",
    "abline(v=(seq(0,200,5)), col=\"lightgray\", lty=1) # Change to number of weeks needed\n",
    "abline(h=(seq(0,g_range[2],5)), col=\"lightgray\", lty=1)\n",
    "\n",
    "\n",
    "lines(i_r, type=\"l\", lty=1, col=\"blue\", lwd=3)\n",
    "\n",
    "\n",
    "lines(i_f, type=\"l\", lty=1, col=\"red\", lwd=3)\n",
    "\n",
    "legend(\"topright\", legend=c(\"Retailer\", \"Factory\"), cex=0.6, col=c(\"blue\",\"red\"), lty=c(1,1), lwd=c(3,3), bty=\"l\", bg=\"gray90\");\n",
    "\n",
    "title(main=\"Inventory Dynamics\", col.main=\"black\", font.main=4)\n",
    "\n",
    "title(xlab=\"Weeks\")\n",
    "title(ylab=\"Inventory\")"
   ]
  }
 ],
 "metadata": {
  "kernelspec": {
   "display_name": "R",
   "language": "R",
   "name": "ir"
  },
  "language_info": {
   "codemirror_mode": "r",
   "file_extension": ".r",
   "mimetype": "text/x-r-source",
   "name": "R",
   "pygments_lexer": "r",
   "version": "3.4.1"
  }
 },
 "nbformat": 4,
 "nbformat_minor": 2
}
